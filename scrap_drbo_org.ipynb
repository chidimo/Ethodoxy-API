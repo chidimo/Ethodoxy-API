{
 "cells": [
  {
   "cell_type": "markdown",
   "metadata": {},
   "source": [
    "http://drbo.org/"
   ]
  },
  {
   "cell_type": "code",
   "execution_count": 1,
   "metadata": {},
   "outputs": [],
   "source": [
    "import re\n",
    "import os\n",
    "import json\n",
    "import glob\n",
    "from django.template.defaultfilters import slugify\n",
    "from pywebber import Ripper"
   ]
  },
  {
   "cell_type": "code",
   "execution_count": 2,
   "metadata": {},
   "outputs": [],
   "source": [
    "domain = \"http://drbo.org/\""
   ]
  },
  {
   "cell_type": "code",
   "execution_count": 3,
   "metadata": {},
   "outputs": [],
   "source": [
    "def normalize_filename(file_name):\n",
    "    return \"_\".join([each.lower() for each in re.split(r\"[\\, *, \\/]\", file_name) if each != ''])"
   ]
  },
  {
   "cell_type": "markdown",
   "metadata": {
    "collapsed": true
   },
   "source": [
    "home = Ripper(domain)\n",
    "home_links = list(home.links())"
   ]
  },
  {
   "cell_type": "code",
   "execution_count": 6,
   "metadata": {},
   "outputs": [],
   "source": [
    "def get_all_books_page_links(raw_page_rip):\n",
    "    \"\"\"Get page links for each book\"\"\"\n",
    "    nt = {}\n",
    "    ot = {}\n",
    "    OTIDS = []\n",
    "    soup = raw_page_rip.soup   \n",
    "    \n",
    "    nt_soup = soup.find(\"td\", class_=\"NT\")\n",
    "    ot1 = soup.find(\"td\", class_=\"OT1\")\n",
    "    ot2 = soup.find(\"td\", class_=\"OT2\")\n",
    "    \n",
    "    for each in nt_soup.find_all(\"a\", href=True):\n",
    "        if 'class=\"b\"' in str(each):\n",
    "            href = each.get(\"href\")\n",
    "            name = each.text\n",
    "\n",
    "            idd = re.search(r'\\d{5}', href).group(0)\n",
    "            nt[name] = [domain + href, idd]\n",
    "            \n",
    "    p = \"D:\\git\\catholic\\drbo_data\"\n",
    "            \n",
    "    with open(os.path.join(p, \"new_test.json\"), \"w+\") as wh:\n",
    "        json.dump(nt, wh)\n",
    "\n",
    "    for each in ot1.find_all(\"a\", href=True):\n",
    "        if 'class=\"b\"' in str(each):\n",
    "            \n",
    "            href = each.get(\"href\")\n",
    "            name = each.text\n",
    "            idd = re.search(r'\\d{5}', href).group(0)\n",
    "                        \n",
    "            if idd in OTIDS:\n",
    "                ot[domain + href][0] = name + \" or \" + ot[domain + href][0]\n",
    "                \n",
    "            else:\n",
    "                ot[domain + href] = [name, idd]\n",
    "                OTIDS.append(idd)\n",
    "                \n",
    "    for each in ot2.find_all(\"a\", href=True):\n",
    "        if 'class=\"b\"' in str(each):\n",
    "            \n",
    "            href = each.get(\"href\")\n",
    "            name = each.text\n",
    "            idd = re.search(r'\\d{5}', href).group(0)\n",
    "                        \n",
    "            if idd in OTIDS:\n",
    "                ot[domain + href][0] = name + \" or \" + ot[domain + href][0]\n",
    "                \n",
    "            else:\n",
    "                ot[domain + href] = [name, idd]\n",
    "                OTIDS.append(idd)\n",
    "                \n",
    "    rev_old = {value[0] : [key, value[1]] for key, value in ot.items()}\n",
    "    with open(os.path.join(p, \"old_test.json\"), \"w+\") as wh:\n",
    "        json.dump(rev_old, wh)"
   ]
  },
  {
   "cell_type": "code",
   "execution_count": 7,
   "metadata": {},
   "outputs": [],
   "source": [
    "get_all_books_page_links(Ripper(url=domain, save_path=\"D:\\git\\catholic\\drbo_org_scrap\"))"
   ]
  },
  {
   "cell_type": "code",
   "execution_count": 8,
   "metadata": {},
   "outputs": [],
   "source": [
    "def get_all_chapters_and_write_to_json(book_name, book_link, idd):\n",
    "    \"\"\"Get all chapters and write to json\"\"\"\n",
    "    chapters = {\"01\" : book_link}\n",
    "    home = Ripper(book_link)\n",
    "    \n",
    "    for each in home.raw_links:\n",
    "        str_each = str(each)\n",
    "        excludes = [\"next\" in str_each, \"previous\" in str_each, \"chapter\" in str_each, \"statcounter\" in str_each,\n",
    "                    \"/x/\" in str_each, \"DRBO.ORG\" in str_each, \"theologica\" in str_each]\n",
    "        \n",
    "        if not any(excludes):\n",
    "            chapters[each.text] = domain + \"chapter/\" + each.get(\"href\")\n",
    "\n",
    "    book_chaps = {book_name : chapters}\n",
    "\n",
    "    with open(\"douay/chapters/\" + normalize_filename(book_name) + \".json\", \"w+\") as wh:\n",
    "        json.dump(book_chaps, wh)\n",
    "    return book_chaps"
   ]
  },
  {
   "cell_type": "code",
   "execution_count": null,
   "metadata": {},
   "outputs": [],
   "source": []
  },
  {
   "cell_type": "code",
   "execution_count": 9,
   "metadata": {},
   "outputs": [],
   "source": [
    "def join_chapter_text(chapter_content_list):\n",
    "    chapter_content_list = [each for each in chapter_content_list if each != \"\\n\"]\n",
    "    chap_text = {}\n",
    "    tracker = 0\n",
    "\n",
    "    for each in chapter_content_list:\n",
    "        each = str(each)\n",
    "        if re.search(r'\\/x\\/d\\?b=drb', each):\n",
    "            tracker += 1\n",
    "            verse = re.search(r'\\[(\\d+)\\]', each).group(1)\n",
    "            chap_text[tracker] = \"\"\n",
    "        else:\n",
    "            chap_text[tracker] = chap_text[tracker] + each\n",
    "    return chap_text\n",
    "\n",
    "def get_all_text_for_chapter(location):\n",
    "    \"\"\"Get text for single chapter\"\"\"\n",
    "    chapter_output_dictionary = {}\n",
    "    chapter_contents_list = []\n",
    "\n",
    "    soup = Ripper(location, parser=\"html5lib\").soup\n",
    "    text = soup.find(\"table\", class_=\"texttable\")\n",
    "\n",
    "    for each in text.find_all(\"p\"):\n",
    "        attributes = each.attrs\n",
    "        if attributes:\n",
    "            if \"desc\" in attributes[\"class\"]:\n",
    "                pass\n",
    "            elif \"note\" in attributes[\"class\"]:\n",
    "                pass\n",
    "        else:\n",
    "            new_cont = each.contents\n",
    "            chapter_contents_list.extend(new_cont)\n",
    "    return join_chapter_text(chapter_contents_list)\n",
    "\n",
    "def get_all_text_for_book(book_file_name):\n",
    "    with open(book_file_name, \"r+\") as rh:\n",
    "        book = json.load(rh)\n",
    "    chapter_text = {}\n",
    "\n",
    "    for name, chapters_dictionary in book.items():\n",
    "        \n",
    "        for chap, location in chapters_dictionary.items():\n",
    "            norm = normalize_filename(\"{}_{}.json\".format(name, chap))\n",
    "            outfile = \"douay/verses/{}.json\".format(norm)\n",
    "            if os.path.exists(outfile):\n",
    "                continue\n",
    "            else:\n",
    "                chapter_text[name + \"__\" + chap] = get_all_text_for_chapter(location)\n",
    "                with open(outfile, \"w+\") as wh:\n",
    "                    json.dump(chapter_text, wh)\n",
    "                chapter_text = {}"
   ]
  },
  {
   "cell_type": "code",
   "execution_count": 10,
   "metadata": {},
   "outputs": [],
   "source": [
    "def make_dictionary_from_each_commentary_text(commentary_parts_list):\n",
    "    \"\"\"Make a dictionary from each commentary text.\n",
    "    Input is a list consisting of a 3 items.\n",
    "    [verse, underlined text from bible, commentary text]\n",
    "    \"\"\"\n",
    "    verse_string = str(commentary_parts_list[0])\n",
    "    header_string = str(commentary_parts_list[1])\n",
    "    \n",
    "    verse = re.search(r\"\\n\\[(\\d+)\\]\", verse_string).group(1)\n",
    "    header = re.search(r'<u>\"(.+)\"</u>', header_string).group(1)\n",
    "\n",
    "    commentary_text = commentary_parts_list[2].replace(\": \", \"\")\n",
    "    key = verse + \"__\" + header\n",
    "    \n",
    "    return key, commentary_text\n",
    "\n",
    "def get_commentary_for_chapter(location):\n",
    "    \"\"\"Get commentary text for single chapter\"\"\"\n",
    "    chapter_commentary_dictionary = {}\n",
    "\n",
    "    soup = Ripper(location, parser=\"html5lib\").soup\n",
    "    text = soup.find(\"table\", class_=\"texttable\")\n",
    "\n",
    "    for each in text.find_all(\"p\"):\n",
    "        attributes = each.attrs\n",
    "        if attributes:\n",
    "            if \"desc\" in attributes[\"class\"]:\n",
    "                pass\n",
    "            elif \"note\" in attributes[\"class\"]:\n",
    "                new_content = each.contents\n",
    "                verse_header, text = make_dictionary_from_each_commentary_text(new_content)\n",
    "                chapter_commentary_dictionary[verse_header] = text\n",
    "        else:\n",
    "            continue\n",
    "    return chapter_commentary_dictionary\n",
    "\n",
    "def get_commentary_for_all_book_chapters(book_file_name):\n",
    "    with open(book_file_name, \"r+\") as rh:\n",
    "        book = json.load(rh)\n",
    "    chapter_text = {}\n",
    "\n",
    "    for name, chapters_dictionary in book.items():\n",
    "        \n",
    "        for chap, location in chapters_dictionary.items():\n",
    "            norm = normalize_filename(\"{}_{}\".format(name, chap))\n",
    "            outfile = \"douay/commentary/challoner/{}.json\".format(norm)\n",
    "            \n",
    "            if os.path.exists(outfile):\n",
    "                continue\n",
    "            else:\n",
    "                chapter_text[name + \"__\" + chap] = get_commentary_for_chapter(location)\n",
    "                with open(outfile, \"w+\") as wh:\n",
    "                    json.dump(chapter_text, wh)\n",
    "                chapter_text = {}"
   ]
  },
  {
   "cell_type": "markdown",
   "metadata": {},
   "source": [
    "## Gateway"
   ]
  },
  {
   "cell_type": "code",
   "execution_count": 11,
   "metadata": {},
   "outputs": [
    {
     "ename": "FileNotFoundError",
     "evalue": "[Errno 2] No such file or directory: 'douay/chapters/\\n_matthew\\n.json'",
     "output_type": "error",
     "traceback": [
      "\u001b[1;31m---------------------------------------------------------------------------\u001b[0m",
      "\u001b[1;31mFileNotFoundError\u001b[0m                         Traceback (most recent call last)",
      "\u001b[1;32m<ipython-input-11-a7523068138d>\u001b[0m in \u001b[0;36m<module>\u001b[1;34m()\u001b[0m\n\u001b[0;32m      8\u001b[0m         \u001b[0mlink\u001b[0m \u001b[1;33m=\u001b[0m \u001b[0mlink\u001b[0m\u001b[1;33m[\u001b[0m\u001b[1;36m0\u001b[0m\u001b[1;33m]\u001b[0m\u001b[1;33m\u001b[0m\u001b[0m\n\u001b[0;32m      9\u001b[0m         \u001b[0midd\u001b[0m \u001b[1;33m=\u001b[0m \u001b[0mlink\u001b[0m\u001b[1;33m[\u001b[0m\u001b[1;36m1\u001b[0m\u001b[1;33m]\u001b[0m\u001b[1;33m\u001b[0m\u001b[0m\n\u001b[1;32m---> 10\u001b[1;33m         \u001b[0mget_all_chapters_and_write_to_json\u001b[0m\u001b[1;33m(\u001b[0m\u001b[0mname\u001b[0m\u001b[1;33m,\u001b[0m \u001b[0mlink\u001b[0m\u001b[1;33m,\u001b[0m \u001b[0midd\u001b[0m\u001b[1;33m)\u001b[0m\u001b[1;33m\u001b[0m\u001b[0m\n\u001b[0m",
      "\u001b[1;32m<ipython-input-8-5bf17d135e03>\u001b[0m in \u001b[0;36mget_all_chapters_and_write_to_json\u001b[1;34m(book_name, book_link, idd)\u001b[0m\n\u001b[0;32m     14\u001b[0m     \u001b[0mbook_chaps\u001b[0m \u001b[1;33m=\u001b[0m \u001b[1;33m{\u001b[0m\u001b[0mbook_name\u001b[0m \u001b[1;33m:\u001b[0m \u001b[0mchapters\u001b[0m\u001b[1;33m}\u001b[0m\u001b[1;33m\u001b[0m\u001b[0m\n\u001b[0;32m     15\u001b[0m \u001b[1;33m\u001b[0m\u001b[0m\n\u001b[1;32m---> 16\u001b[1;33m     \u001b[1;32mwith\u001b[0m \u001b[0mopen\u001b[0m\u001b[1;33m(\u001b[0m\u001b[1;34m\"douay/chapters/\"\u001b[0m \u001b[1;33m+\u001b[0m \u001b[0mnormalize_filename\u001b[0m\u001b[1;33m(\u001b[0m\u001b[0mbook_name\u001b[0m\u001b[1;33m)\u001b[0m \u001b[1;33m+\u001b[0m \u001b[1;34m\".json\"\u001b[0m\u001b[1;33m,\u001b[0m \u001b[1;34m\"w+\"\u001b[0m\u001b[1;33m)\u001b[0m \u001b[1;32mas\u001b[0m \u001b[0mwh\u001b[0m\u001b[1;33m:\u001b[0m\u001b[1;33m\u001b[0m\u001b[0m\n\u001b[0m\u001b[0;32m     17\u001b[0m         \u001b[0mjson\u001b[0m\u001b[1;33m.\u001b[0m\u001b[0mdump\u001b[0m\u001b[1;33m(\u001b[0m\u001b[0mbook_chaps\u001b[0m\u001b[1;33m,\u001b[0m \u001b[0mwh\u001b[0m\u001b[1;33m)\u001b[0m\u001b[1;33m\u001b[0m\u001b[0m\n\u001b[0;32m     18\u001b[0m     \u001b[1;32mreturn\u001b[0m \u001b[0mbook_chaps\u001b[0m\u001b[1;33m\u001b[0m\u001b[0m\n",
      "\u001b[1;31mFileNotFoundError\u001b[0m: [Errno 2] No such file or directory: 'douay/chapters/\\n_matthew\\n.json'"
     ]
    }
   ],
   "source": [
    "p = \"D:\\git\\catholic\\drbo_data\"\n",
    "            \n",
    "for each in [os.path.join(p, \"new_test.json\"),os.path.join(p, \"old_test.json\")]:\n",
    "    with open(each, \"r+\") as rh:\n",
    "        books = json.load(rh)\n",
    "\n",
    "    for name, link in books.items():\n",
    "        link = link[0]\n",
    "        idd = link[1]\n",
    "        get_all_chapters_and_write_to_json(name, link, idd)"
   ]
  },
  {
   "cell_type": "code",
   "execution_count": null,
   "metadata": {},
   "outputs": [],
   "source": [
    "all_books = glob.glob(\"douay/chapters/*.json\")"
   ]
  },
  {
   "cell_type": "markdown",
   "metadata": {
    "collapsed": true
   },
   "source": [
    "for each in all_books:\n",
    "    get_all_text_for_book(each)"
   ]
  },
  {
   "cell_type": "code",
   "execution_count": null,
   "metadata": {},
   "outputs": [],
   "source": [
    "for each in all_books:\n",
    "    get_commentary_for_all_book_chapters(each)"
   ]
  },
  {
   "cell_type": "code",
   "execution_count": null,
   "metadata": {},
   "outputs": [],
   "source": []
  }
 ],
 "metadata": {
  "kernelspec": {
   "display_name": "__base",
   "language": "python",
   "name": "__base"
  },
  "language_info": {
   "codemirror_mode": {
    "name": "ipython",
    "version": 3
   },
   "file_extension": ".py",
   "mimetype": "text/x-python",
   "name": "python",
   "nbconvert_exporter": "python",
   "pygments_lexer": "ipython3",
   "version": "3.6.4"
  }
 },
 "nbformat": 4,
 "nbformat_minor": 2
}

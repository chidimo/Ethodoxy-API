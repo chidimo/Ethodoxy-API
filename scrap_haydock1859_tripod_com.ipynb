{
 "cells": [
  {
   "cell_type": "markdown",
   "metadata": {},
   "source": [
    "http://haydock1859.tripod.com/"
   ]
  },
  {
   "cell_type": "code",
   "execution_count": null,
   "metadata": {
    "collapsed": true
   },
   "outputs": [],
   "source": [
    "import re\n",
    "import os\n",
    "import json\n",
    "import glob\n",
    "import pprint\n",
    "from django.template.defaultfilters import slugify\n",
    "from pywebber import Ripper "
   ]
  },
  {
   "cell_type": "code",
   "execution_count": null,
   "metadata": {
    "collapsed": true
   },
   "outputs": [],
   "source": [
    "OT_home = \"http://haydock1859.tripod.com/id330.html\""
   ]
  },
  {
   "cell_type": "code",
   "execution_count": null,
   "metadata": {
    "collapsed": true
   },
   "outputs": [],
   "source": [
    "NT_home = \"http://haydock1859.tripod.com/index.html\""
   ]
  },
  {
   "cell_type": "code",
   "execution_count": null,
   "metadata": {
    "collapsed": true
   },
   "outputs": [],
   "source": [
    "def get_nt_commentary_links(nt_home_link):\n",
    "    home_rip = Ripper(nt_home_link, parser=\"html5lib\")\n",
    "    text_block = home_rip.soup.find(\"blockquote\", style=\"MARGIN-RIGHT: 0px\")\n",
    "    paragraphs = list(text_block.find_all(\"p\", dir=False))\n",
    "\n",
    "    book_dictionary = {}\n",
    "    for each in paragraphs:\n",
    "        child_objects = list(each.children)\n",
    "        book_name_part = str(child_objects[0])\n",
    "        book_name = re.search(r\"<strong>([0-9A-Z\\s]+)<\\/strong>\", book_name_part).group(1)\n",
    "\n",
    "        text_link_dictionary = {}\n",
    "\n",
    "        for each in child_objects[1:]:\n",
    "            try:\n",
    "                ref = each.get(\"href\")\n",
    "            except AttributeError:\n",
    "                continue\n",
    "            if ref is None:\n",
    "                continue\n",
    "            \n",
    "            link = \"http://haydock1859.tripod.com/\" + ref\n",
    "            text = each.text\n",
    "            text_link_dictionary[text] = link\n",
    "\n",
    "        book_dictionary[book_name] = text_link_dictionary\n",
    "        outfile = \"douay/commentary/haydock/{}.json\".format(slugify(book_name))\n",
    "        \n",
    "        with open(outfile, \"w+\") as wh:\n",
    "            json.dump(book_dictionary, wh)\n",
    "        book_dictionary = {}"
   ]
  },
  {
   "cell_type": "markdown",
   "metadata": {},
   "source": [
    "get_nt_commentary_links(NT_home)"
   ]
  },
  {
   "cell_type": "code",
   "execution_count": null,
   "metadata": {
    "collapsed": true
   },
   "outputs": [],
   "source": [
    "def get_nt_commentary_texts(commentary_link):\n",
    "    \"\"\"Output {'text', 'footnotes', 'crossref'} dictionary\"\"\"\n",
    "    page = Ripper(commentary_link, parser=\"html5lib\").soup\n",
    "    commentary_and_footnotes_data = page.find(\"td\", width=\"60%\").find(\"blockquote\")\n",
    "    cross_reference_data = page.find(\"td\", width=\"40%\")\n",
    "    \n",
    "    commentary_footnotes_divider = \"____________________\"\n",
    "    \n",
    "    all_commentary_paragraphs = commentary_and_footnotes_data.find_all(\"p\")\n",
    "    for each in all_commentary_paragraphs:\n",
    "        descendants = list(each.children)\n",
    "        \n",
    "        first_child = str(descendants[0])\n",
    "        \n",
    "        if re.search(r\"(?<=>)Ver\\.\\s?[0-9]+\", first_child):\n",
    "            # positive lookbehind. Match only if preceded by '>'\n",
    "            try:\n",
    "                print(\"**1**\", descendants[1].text)\n",
    "            except IndexError:\n",
    "                print(\"**0**\", descendants[0].text)\n",
    "\n",
    "        elif re.search(r\"(?<=]\\s)Ver\\.\\s?[0-9]+\", first_child):\n",
    "            print(\"footnotes begin\")\n",
    "\n",
    "            \n",
    "            try:\n",
    "                print(descendants[0].text)\n",
    "            except IndexError:\n",
    "                print(descendants[1])\n",
    "            \n",
    "        print(\"*\"*120)\n"
   ]
  },
  {
   "cell_type": "code",
   "execution_count": null,
   "metadata": {
    "collapsed": true
   },
   "outputs": [],
   "source": [
    "v = get_nt_commentary_texts(\"http://haydock1859.tripod.com/id1731.html\")"
   ]
  },
  {
   "cell_type": "code",
   "execution_count": null,
   "metadata": {
    "collapsed": false,
    "scrolled": true
   },
   "outputs": [],
   "source": [
    "v = get_nt_commentary_texts(\"http://haydock1859.tripod.com/id1730.html\")"
   ]
  },
  {
   "cell_type": "code",
   "execution_count": null,
   "metadata": {
    "collapsed": false
   },
   "outputs": [],
   "source": [
    "get_nt_commentary_texts(\"http://haydock1859.tripod.com/id14.html\")"
   ]
  },
  {
   "cell_type": "code",
   "execution_count": null,
   "metadata": {
    "collapsed": false
   },
   "outputs": [],
   "source": [
    "for each in v:\n",
    "    print(each)\n",
    "    print(\"***********\")\n",
    "    print()\n",
    "    print()"
   ]
  },
  {
   "cell_type": "code",
   "execution_count": null,
   "metadata": {
    "collapsed": true
   },
   "outputs": [],
   "source": [
    "def get_ot_commentary_links(ot_home_link):\n",
    "    home_rip = Ripper(ot_home_link, parser=\"html5lib\")\n",
    "    outer_block = home_rip.soup.find(\"blockquote\", style=\"MARGIN-RIGHT: 0px\")\n",
    "    inner_blocks = outer_block.find_all(\"blockquote\", style=\"MARGIN-RIGHT: 0px\")\n",
    "    main_block = inner_blocks[-1]\n",
    "    \n",
    "    for each in main_block.children:\n",
    "        print(each)\n",
    "        print"
   ]
  },
  {
   "cell_type": "code",
   "execution_count": null,
   "metadata": {
    "collapsed": false
   },
   "outputs": [],
   "source": [
    "get_ot_commentary_links(OT_home)"
   ]
  },
  {
   "cell_type": "code",
   "execution_count": null,
   "metadata": {
    "collapsed": true
   },
   "outputs": [],
   "source": []
  }
 ],
 "metadata": {
  "kernelspec": {
   "display_name": "Environment (__ca)",
   "language": "",
   "name": "__ca"
  },
  "language_info": {
   "codemirror_mode": {
    "name": "ipython",
    "version": 3
   },
   "file_extension": ".py",
   "mimetype": "text/x-python",
   "name": "python",
   "nbconvert_exporter": "python",
   "pygments_lexer": "ipython3",
   "version": "3.6.0"
  }
 },
 "nbformat": 4,
 "nbformat_minor": 2
}
